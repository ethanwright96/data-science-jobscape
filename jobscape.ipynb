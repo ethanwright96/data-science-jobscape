{
 "cells": [
  {
   "cell_type": "markdown",
   "id": "465f0faa-3635-4362-975d-14fc45d2a2b8",
   "metadata": {},
   "source": [
    "# Data Science JobScape "
   ]
  },
  {
   "cell_type": "code",
   "execution_count": 10,
   "id": "e8d747d3-f58e-4622-8dde-54c372567d09",
   "metadata": {},
   "outputs": [],
   "source": [
    "import pandas as pd\n",
    "import numpy as np\n",
    "import sklearn\n",
    "import nltk\n",
    "import matplotlib.pyplot as plt\n",
    "import seaborn as sns\n",
    "import requests\n",
    "from bs4 import BeautifulSoup\n",
    "import scrapy"
   ]
  },
  {
   "cell_type": "code",
   "execution_count": 11,
   "id": "97f61490-7597-496b-ba6a-c501188d35c4",
   "metadata": {},
   "outputs": [],
   "source": [
    "# linear regression\n",
    "from sklearn.linear_model import LinearRegression\n",
    "from sklearn.model_selection import train_test_split"
   ]
  },
  {
   "cell_type": "markdown",
   "id": "4779ceea-e96a-45df-83ff-66b263e6e8c0",
   "metadata": {},
   "source": [
    "### Task 1: Navigate to O*NET Online"
   ]
  },
  {
   "cell_type": "code",
   "execution_count": null,
   "id": "6b150c9d-2773-4e38-8b14-a4e1843e09de",
   "metadata": {},
   "outputs": [],
   "source": []
  },
  {
   "cell_type": "markdown",
   "id": "4d0da26f-9869-447b-a6cb-8e493864fda3",
   "metadata": {},
   "source": [
    "### Foundational NLTK Example:"
   ]
  },
  {
   "cell_type": "code",
   "execution_count": 9,
   "id": "cb14eec4-0b69-4eaa-b9e6-4a270e500acd",
   "metadata": {},
   "outputs": [
    {
     "name": "stdout",
     "output_type": "stream",
     "text": [
      "Tokenized words:\n",
      "['I', 'love', 'using', 'NLTK', 'in', 'my', 'natural', 'language', 'processing', 'projects', '.']\n",
      "\n",
      "POS tagged words:\n",
      "[('I', 'PRP'), ('love', 'VBP'), ('using', 'VBG'), ('NLTK', 'NNP'), ('in', 'IN'), ('my', 'PRP$'), ('natural', 'JJ'), ('language', 'NN'), ('processing', 'NN'), ('projects', 'NNS'), ('.', '.')]\n"
     ]
    }
   ],
   "source": [
    "# Download the required resources for tokenization and POS tagging\n",
    "#nltk.download('punkt')\n",
    "#nltk.download('averaged_perceptron_tagger')\n",
    "\n",
    "# Sentence to be tokenized and POS tagged\n",
    "sentence = \"I love using NLTK in my natural language processing projects.\"\n",
    "\n",
    "# Tokenize the sentence\n",
    "tokens = nltk.word_tokenize(sentence)\n",
    "\n",
    "# Perform part-of-speech (POS) tagging\n",
    "pos_tags = nltk.pos_tag(tokens)\n",
    "\n",
    "# Print the tokenized words\n",
    "print(\"Tokenized words:\")\n",
    "print(tokens)\n",
    "\n",
    "# Print the POS tagged words\n",
    "print(\"\\nPOS tagged words:\")\n",
    "print(pos_tags)"
   ]
  },
  {
   "cell_type": "code",
   "execution_count": null,
   "id": "8917d18d-cf19-4d8c-9943-75ce8eb79ced",
   "metadata": {},
   "outputs": [],
   "source": []
  }
 ],
 "metadata": {
  "kernelspec": {
   "display_name": "Python 3 (ipykernel)",
   "language": "python",
   "name": "python3"
  },
  "language_info": {
   "codemirror_mode": {
    "name": "ipython",
    "version": 3
   },
   "file_extension": ".py",
   "mimetype": "text/x-python",
   "name": "python",
   "nbconvert_exporter": "python",
   "pygments_lexer": "ipython3",
   "version": "3.9.13"
  }
 },
 "nbformat": 4,
 "nbformat_minor": 5
}
